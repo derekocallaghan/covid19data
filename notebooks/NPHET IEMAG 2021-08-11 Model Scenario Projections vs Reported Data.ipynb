{
 "cells": [
  {
   "cell_type": "code",
   "execution_count": 1,
   "metadata": {},
   "outputs": [],
   "source": [
    "%matplotlib inline"
   ]
  },
  {
   "cell_type": "code",
   "execution_count": 2,
   "metadata": {},
   "outputs": [],
   "source": [
    "import warnings\n",
    "warnings.filterwarnings(\"ignore\")\n",
    "\n",
    "from dataclasses import dataclass\n",
    "from datetime import datetime\n",
    "import math\n",
    "import matplotlib as mpl\n",
    "import matplotlib.pyplot as plt\n",
    "import numpy as np\n",
    "import operator\n",
    "import pandas as pd\n",
    "import seaborn as sns\n",
    "\n",
    "mpl.rcParams['figure.figsize'] = [8, 5]\n",
    "sns.set_style('whitegrid', {'axes.labelcolor': '0', \"text.color\": '0', 'xtick.color': '0', 'ytick.color': '0', 'font.sans-serif': ['DejaVu Sans', 'Liberation Sans', 'Bitstream Vera Sans', 'sans-serif'],})\n",
    "sns.set_context('notebook', font_scale=1)"
   ]
  },
  {
   "cell_type": "markdown",
   "metadata": {},
   "source": [
    "## NPHET IEMAG 2021-08-11 Model Scenario Projections vs Reported Data (*WORK IN PROGRESS*)\n",
    "\n",
    "This notebook compares the NPHET IEMAG 2021-08-11 model scenario projections with reported data, for 2021-08-11 to 2021-10-25. The projections are estimated reproductions of those from Figure 1 in the [2021-08-25 NPHET letter to the Minister for Health](https://assets.gov.ie/197023/331de194-9bff-44cf-a633-e4f21e3838c6.pdf).\n"
   ]
  },
  {
   "cell_type": "code",
   "execution_count": 3,
   "metadata": {},
   "outputs": [],
   "source": [
    "@dataclass\n",
    "class ScenarioCurve:\n",
    "    name: str\n",
    "    fit_dates: pd.DatetimeIndex\n",
    "    fit_cases: np.array\n",
    "        \n",
    "@dataclass(frozen=True)\n",
    "class Scenario:\n",
    "    name: str\n",
    "    cases: np.array\n",
    "    mean_cases: int\n",
    "    #mean_hospital_cases: int\n",
    "    #mean_icu_cases: int\n",
    "    #mean_deaths: int\n",
    "    dates: pd.DatetimeIndex\n",
    "    color: int"
   ]
  },
  {
   "cell_type": "markdown",
   "metadata": {},
   "source": [
    "### Scenario data 2021-08-11 to 2021-10-25, based on Figure 1 above"
   ]
  },
  {
   "cell_type": "code",
   "execution_count": 4,
   "metadata": {},
   "outputs": [],
   "source": [
    "# Mean cases are generated later on and specified here, will be auto-generated here\n",
    "scenario_dates = pd.date_range('2021-08-11', '2021-10-25')\n",
    "\n",
    "scenarios = {}\n",
    "for name, fit_dates, fit_cases, mean_cases, color in     [\n",
    "        ('Minimal change', \n",
    "         ['20210811', '20210816', '20210823', '20210909', '20211025'], \n",
    "         [1819, 1700, 1800, 1850, 1150],\n",
    "         125974,\n",
    "         0\n",
    "        ),\n",
    "\n",
    "        ('Optimistic', \n",
    "         ['20210811', '20210816', '20210823', '20210920', '20211025'], \n",
    "         [1819, 1850, 2100, 3100, 2500],\n",
    "         202631,\n",
    "         1\n",
    "        ),\n",
    "    \n",
    "        ('Central 1', \n",
    "         ['20210811', '20210816', '20210823', '20211001', '20211025'], \n",
    "         [1819, 1925, 2600, 5700, 4900],\n",
    "         334186,\n",
    "         2\n",
    "        ),\n",
    "    \n",
    "        ('Central 2', \n",
    "         ['20210811', '20210816', '20210823', '20211001', '20211025'], \n",
    "         [1819, 2200, 3100, 7500, 6250],\n",
    "         429713,\n",
    "         3\n",
    "        ),\n",
    "    \n",
    "        ('Pessimistic', \n",
    "         ['20210811', '20210816', '20210823', '20210927', '20211025'], \n",
    "         [1819, 2500, 3750, 12400, 7500],\n",
    "         655773,\n",
    "         4\n",
    "        ),\n",
    "    ]:\n",
    "    fit_dates = [datetime.strptime(x, '%Y%m%d') for x in fit_dates]\n",
    "    days = [(x - fit_dates[0]).days for x in fit_dates]\n",
    "    pf = np.poly1d(np.polyfit(days, fit_cases, deg=2))\n",
    "    scenarios[name] = Scenario(name=name, \n",
    "                               cases=pf(range(0, days[-1] + 1)), \n",
    "                               mean_cases=mean_cases,\n",
    "                               dates=scenario_dates, \n",
    "                               color=color)\n",
    "\n",
    "pprevdf = pd.DataFrame({'Date': pd.date_range('2020-12-21', '2021-08-10')})\n",
    "pprevdf['Day'] = -1\n",
    "pprevdf['Cases'] = 0\n",
    "scenariodf = pd.DataFrame({'Date': np.concatenate([x.dates for x in scenarios.values()]), \n",
    "                           'Scenario': np.concatenate([[x] * len(y.dates) for x, y in scenarios.items()]), \n",
    "                           'DailyCases': np.concatenate([x.cases for x in scenarios.values()]),\n",
    "                           'Cases': np.concatenate([[x.cases.sum()] * len(x.dates) for x in scenarios.values()]),\n",
    "                          # 'HospitalCases': np.concatenate([[x.mean_hospital_cases] * len(x.dates) for x in scenarios.values()]),\n",
    "                          # 'IcuCases': np.concatenate([[x.mean_icu_cases] * len(x.dates) for x in scenarios.values()]),\n",
    "                          # 'Deaths': np.concatenate([[x.mean_deaths] * len(x.dates) for x in scenarios.values()])\n",
    "                          })"
   ]
  },
  {
   "cell_type": "code",
   "execution_count": 5,
   "metadata": {},
   "outputs": [
    {
     "data": {
      "text/plain": [
       "Scenario\n",
       "Central 1         334186\n",
       "Central 2         429713\n",
       "Minimal change    125974\n",
       "Optimistic        202631\n",
       "Pessimistic       655773\n",
       "Name: DailyCases, dtype: int64"
      ]
     },
     "execution_count": 5,
     "metadata": {},
     "output_type": "execute_result"
    }
   ],
   "source": [
    "scenariodf.groupby('Scenario').DailyCases.sum().astype(int)"
   ]
  },
  {
   "cell_type": "code",
   "execution_count": 6,
   "metadata": {},
   "outputs": [],
   "source": [
    "reporteddf = pd.read_csv('./data/reportedcases.csv', parse_dates=[\"Date\"], date_parser=lambda x: datetime.strptime(x, \"%Y-%m-%d\"))\n",
    "reporteddf = reporteddf[reporteddf.Date>='2021-08-11']\n",
    "\n",
    "# Fewer cases are reported to the ECDC, assume this is related to denotifications, so this number may be used instead of locally reported number\n",
    "# For now, report local number, but may change this\n",
    "# As of 2021-07-29, 451 fewer cases were reported to the ECDC since 2021-07-01\n",
    "reporteddf['DailyCases'] = reporteddf.Cases\n",
    "reporteddf.Cases = reporteddf.Cases.cumsum()\n",
    "#reporteddf.Cases = ecdcdf.Cases\n",
    "\n",
    "reporteddf.HospitalCases = reporteddf.HospitalCases.cumsum()\n",
    "reporteddf.IcuCases = reporteddf.IcuCases.cumsum()\n",
    "reporteddf.Deaths = reporteddf.Deaths.cumsum()\n",
    "reporteddf['Scenario'] = 'Reported'"
   ]
  },
  {
   "cell_type": "code",
   "execution_count": 7,
   "metadata": {},
   "outputs": [],
   "source": [
    "geohivedf = pd.read_csv('./data/CovidStatisticsProfileHPSCIrelandOpenData.csv', parse_dates=[\"Date\"], date_parser=lambda x: datetime.strptime(x, \"%Y/%m/%d 00:00:00+00\"))\n",
    "geohivedf = geohivedf[geohivedf.Date>='2021-06-30'][['Date', 'ConfirmedCovidCases', 'TotalConfirmedCovidCases']]\n",
    "geohivedf['RevisedCases']=geohivedf[['TotalConfirmedCovidCases']].diff().fillna(0).astype(int)\n",
    "geohivedf['Cases'] = geohivedf.RevisedCases.cumsum()\n",
    "geohivedf['Scenario'] = 'Reported (Total Geohive)'"
   ]
  },
  {
   "cell_type": "markdown",
   "metadata": {},
   "source": [
    "### NPHET scenarios vs reported cases"
   ]
  },
  {
   "cell_type": "code",
   "execution_count": 8,
   "metadata": {},
   "outputs": [],
   "source": [
    "default_palette = sns.color_palette()\n",
    "generate_dashes = lambda plot_scenarios:[(3,2)] * len(plot_scenarios) + ['']\n",
    "generate_palette = lambda plot_scenarios:[default_palette[scenarios[x].color] for x in plot_scenarios] + default_palette[5:6]\n",
    "\n",
    "def plot_cases(plot_scenarios, model_title, case_type='Cases', y='Cases', ylabel='Cases', legend_loc='upper left', plot_scenario='all', plot_type='cases', value_type='(Cumulative)'):\n",
    "    ax = sns.lineplot(data=pd.concat((scenariodf[scenariodf.Scenario.isin(plot_scenarios)], reporteddf), ignore_index=True), x='Date', y=y, hue='Scenario', style='Scenario', dashes=generate_dashes(plot_scenarios), palette=generate_palette(plot_scenarios))\n",
    "    sns.despine(left=True, bottom=True)\n",
    "    ax.set_title(f'NPHET IEMAG 2021-08-11 {model_title} Scenarios vs Reported {case_type} {value_type}')\n",
    "    ax.set_ylabel(ylabel)\n",
    "    plt.legend(loc=legend_loc)\n",
    "    plt.xticks(rotation=30);\n",
    "    if plot_scenario and plot_type:\n",
    "        plt.savefig(f'./figures/nphet20210811_{plot_scenario}_scenarios_vs_reported_{plot_type}.png', bbox_inches='tight')\n",
    "        \n",
    "def plot_hospital_cases(plot_scenarios, model_title, legend_loc='upper left', plot_scenario='all'):\n",
    "    plot_cases(plot_scenarios=plot_scenarios, \n",
    "               model_title=model_title, \n",
    "               case_type='Hospital Cases', \n",
    "               y='HospitalCases', \n",
    "               ylabel='New Hospital Cases',\n",
    "               legend_loc=legend_loc, \n",
    "               plot_scenario=plot_scenario, \n",
    "               plot_type='hospital_cases')\n",
    "    \n",
    "def plot_icu_cases(plot_scenarios, model_title, legend_loc='upper left', plot_scenario='all'):\n",
    "    plot_cases(plot_scenarios=plot_scenarios, \n",
    "               model_title=model_title, \n",
    "               case_type='ICU Cases', \n",
    "               y='IcuCases', \n",
    "               ylabel='New ICU Cases',\n",
    "               legend_loc=legend_loc, \n",
    "               plot_scenario=plot_scenario, \n",
    "               plot_type='icu_cases')\n",
    "    \n",
    "def plot_deaths(plot_scenarios, model_title, legend_loc='upper left', plot_scenario='all'):\n",
    "    plot_cases(plot_scenarios=plot_scenarios, \n",
    "               model_title=model_title, \n",
    "               case_type='Deaths', \n",
    "               y='Deaths', \n",
    "               ylabel='Deaths',\n",
    "               legend_loc=legend_loc, \n",
    "               plot_scenario=plot_scenario,\n",
    "               plot_type='deaths')\n",
    "    \n",
    "def plot_daily_cases(plot_scenarios, model_title, legend_loc='upper left', plot_scenario='all'):\n",
    "    plot_cases(plot_scenarios=plot_scenarios, \n",
    "               model_title=model_title, \n",
    "               case_type='Daily Cases', \n",
    "               y='DailyCases', \n",
    "               ylabel='New Daily Cases',\n",
    "               legend_loc=legend_loc, \n",
    "               plot_scenario=plot_scenario, \n",
    "               plot_type='daily_cases',\n",
    "               value_type='')\n",
    "    \n"
   ]
  },
  {
   "cell_type": "code",
   "execution_count": 9,
   "metadata": {},
   "outputs": [
    {
     "data": {
      "image/png": "[encoded data removed]",
      "text/plain": [
       "<Figure size 576x360 with 1 Axes>"
      ]
     },
     "metadata": {},
     "output_type": "display_data"
    }
   ],
   "source": [
    "plot_cases(plot_scenarios=['Minimal change', 'Optimistic', 'Central 1', 'Central 2', 'Pessimistic'], \n",
    "           model_title='Model', \n",
    "           #legend_loc='upper right',\n",
    "           plot_scenario='all')"
   ]
  },
  {
   "cell_type": "code",
   "execution_count": 10,
   "metadata": {},
   "outputs": [
    {
     "data": {
      "image/png": "[encoded data removed]",
      "text/plain": [
       "<Figure size 576x360 with 1 Axes>"
      ]
     },
     "metadata": {},
     "output_type": "display_data"
    }
   ],
   "source": [
    "plot_daily_cases(plot_scenarios=['Minimal change', 'Optimistic', 'Central 1', 'Central 2', 'Pessimistic'], \n",
    "           model_title='Model', \n",
    "           #legend_loc='upper right',\n",
    "           plot_scenario='all')"
   ]
  },
  {
   "cell_type": "code",
   "execution_count": 11,
   "metadata": {},
   "outputs": [],
   "source": [
    "#plot_hospital_cases(plot_scenarios=['Minimal change', 'Optimistic-AV', 'Central 1', 'Central 2', 'Pessimistic'], \n",
    "#                    model_title='Model', \n",
    "#                    legend_loc='upper right',\n",
    "#                    plot_scenario='all')"
   ]
  },
  {
   "cell_type": "code",
   "execution_count": 12,
   "metadata": {},
   "outputs": [],
   "source": [
    "#plot_icu_cases(plot_scenarios=['Minimal change', 'Optimistic-AV', 'Central 1', 'Central 2', 'Pessimistic'], \n",
    "#               model_title='Model', \n",
    "#               legend_loc='upper right',\n",
    "#               plot_scenario='all')"
   ]
  },
  {
   "cell_type": "code",
   "execution_count": 13,
   "metadata": {},
   "outputs": [],
   "source": [
    "#plot_deaths(plot_scenarios=['Minimal change', 'Optimistic-AV', 'Central 1', 'Central 2', 'Pessimistic'], \n",
    "#            model_title='Model', \n",
    "#            legend_loc='upper right',\n",
    "#            plot_scenario='all')"
   ]
  },
  {
   "cell_type": "code",
   "execution_count": 14,
   "metadata": {},
   "outputs": [],
   "source": [
    "#plot_cases(plot_scenarios=['Optimistic-AV (Jul)', 'Optimistic-AV (Aug)', 'Optimistic-AV (Sep)'], \n",
    "#           model_title='Optimistic-AV',\n",
    "#           plot_scenario='optimisticav')"
   ]
  },
  {
   "cell_type": "code",
   "execution_count": 15,
   "metadata": {},
   "outputs": [],
   "source": [
    "#plot_hospital_cases(plot_scenarios=['Optimistic-AV (Jul)', 'Optimistic-AV (Aug)', 'Optimistic-AV (Sep)'], \n",
    "#                    model_title='Optimistic-AV',\n",
    "#                    plot_scenario='optimisticav')"
   ]
  },
  {
   "cell_type": "code",
   "execution_count": 16,
   "metadata": {},
   "outputs": [],
   "source": [
    "#plot_icu_cases(plot_scenarios=['Optimistic-AV (Jul)', 'Optimistic-AV (Aug)', 'Optimistic-AV (Sep)'], \n",
    "#               model_title='Optimistic-AV',\n",
    "#               plot_scenario='optimisticav')"
   ]
  },
  {
   "cell_type": "code",
   "execution_count": 17,
   "metadata": {},
   "outputs": [],
   "source": [
    "#plot_deaths(plot_scenarios=['Optimistic-AV (Jul)', 'Optimistic-AV (Aug)', 'Optimistic-AV (Sep)'], \n",
    "#            model_title='Optimistic-AV',\n",
    "#            plot_scenario='optimisticav')"
   ]
  },
  {
   "cell_type": "code",
   "execution_count": 18,
   "metadata": {},
   "outputs": [],
   "source": [
    "#plot_cases(plot_scenarios=['Central 1 (Jul)', 'Central 1 (Aug)', 'Central 1 (Sep)'], \n",
    "#           model_title='Central 1',\n",
    "#           filename='./figures/nphet20210709_central1_scenarios_vs_reported_cases.png')"
   ]
  },
  {
   "cell_type": "code",
   "execution_count": 19,
   "metadata": {},
   "outputs": [],
   "source": [
    "#plot_hospital_cases(plot_scenarios=['Central 1 (Jul)', 'Central 1 (Aug)', 'Central 1 (Sep)'], \n",
    "#                    model_title='Central 1',\n",
    "#                    filename='./figures/nphet20210709_central1_scenarios_vs_reported_hospital_cases.png')"
   ]
  },
  {
   "cell_type": "code",
   "execution_count": 20,
   "metadata": {},
   "outputs": [],
   "source": [
    "#plot_icu_cases(plot_scenarios=['Central 1 (Jul)', 'Central 1 (Aug)', 'Central 1 (Sep)'], \n",
    "#               model_title='Central 1',\n",
    "#               filename='./figures/nphet20210709_central1_scenarios_vs_reported_icu_cases.png')"
   ]
  },
  {
   "cell_type": "code",
   "execution_count": 21,
   "metadata": {},
   "outputs": [],
   "source": [
    "#plot_cases(plot_scenarios=['Central 2 (Jul)', 'Central 2 (Aug)', 'Central 2 (Sep)'], \n",
    "#           model_title='Central 2',\n",
    "#           filename='./figures/nphet20210709_central2_scenarios_vs_reported_cases.png')"
   ]
  },
  {
   "cell_type": "code",
   "execution_count": 22,
   "metadata": {},
   "outputs": [],
   "source": [
    "#plot_hospital_cases(plot_scenarios=['Central 2 (Jul)', 'Central 2 (Aug)', 'Central 2 (Sep)'], \n",
    "#                    model_title='Central 2',\n",
    "#                    filename='./figures/nphet20210709_central2_scenarios_vs_reported_hospital_cases.png')"
   ]
  },
  {
   "cell_type": "code",
   "execution_count": 23,
   "metadata": {},
   "outputs": [],
   "source": [
    "#plot_icu_cases(plot_scenarios=['Central 2 (Jul)', 'Central 2 (Aug)', 'Central 2 (Sep)'], \n",
    "#               model_title='Central 2',\n",
    "#               filename='./figures/nphet20210709_central2_scenarios_vs_reported_icu_cases.png')"
   ]
  },
  {
   "cell_type": "code",
   "execution_count": 24,
   "metadata": {},
   "outputs": [],
   "source": [
    "#plot_cases(plot_scenarios=['Pessimistic (Jul)', 'Pessimistic (Aug)', 'Pessimistic (Sep)'], \n",
    "#           model_title='Pessimistic',\n",
    "#           filename='./figures/nphet20210709_pessimistic_scenarios_vs_reported_cases.png')"
   ]
  },
  {
   "cell_type": "code",
   "execution_count": 25,
   "metadata": {},
   "outputs": [],
   "source": [
    "#plot_hospital_cases(plot_scenarios=['Pessimistic (Jul)', 'Pessimistic (Aug)', 'Pessimistic (Sep)'], \n",
    "#                    model_title='Pessimistic',\n",
    "#                    filename='./figures/nphet20210709_pessimistic_scenarios_vs_reported_hospital_cases.png')"
   ]
  },
  {
   "cell_type": "code",
   "execution_count": 26,
   "metadata": {},
   "outputs": [],
   "source": [
    "#plot_icu_cases(plot_scenarios=['Pessimistic (Jul)', 'Pessimistic (Aug)', 'Pessimistic (Sep)'], \n",
    "#               model_title='Pessimistic',\n",
    "#               filename='./figures/nphet20210709_pessimistic_scenarios_vs_reported_icu_cases.png')"
   ]
  },
  {
   "cell_type": "markdown",
   "metadata": {},
   "source": [
    "### Generate current cases/hospitalisation/ICU summaries"
   ]
  },
  {
   "cell_type": "code",
   "execution_count": 27,
   "metadata": {},
   "outputs": [],
   "source": [
    "def generate_summary(reported_column, scenario_cases, title):\n",
    "    columndf = reporteddf[['Date', reported_column]].dropna()\n",
    "    num_reported_days = len(columndf)\n",
    "    scenario_length = len(scenario_dates)\n",
    "    cases_current_row = columndf.iloc[-1]\n",
    "    cases_current = int(cases_current_row[reported_column])\n",
    "    cases_previous = int(columndf.iloc[-2][reported_column])\n",
    "    new_cases = cases_current - cases_previous\n",
    "    scenario_status = {}\n",
    "    print(f\"\"\"NPHET IEMAG 2021-08-11 Model Scenarios vs Reported {title}\n",
    "\n",
    "({datetime.strftime(cases_current_row.Date, \"%A %Y-%m-%d\")})\n",
    "\n",
    "- Reported Total: {cases_current} (+{new_cases})\n",
    "- % Scenario Duration ({len(scenario_dates)} days): {num_reported_days*100/scenario_length:.1f}%\"\"\")\n",
    "\n",
    "    for scenario in ['Optimistic', 'Central 1', 'Central 2', 'Pessimistic']:\n",
    "        mean_cases = getattr(scenarios[scenario], scenario_cases)\n",
    "        cases_current_perc = cases_current*100/mean_cases\n",
    "        scenario_status[scenario] = {\n",
    "            'cases_current_perc': cases_current_perc,\n",
    "            'mean_daily_required_cases': (mean_cases - cases_current)/(scenario_length - num_reported_days)\n",
    "        }\n",
    "        print(f'- % {scenario} Scenario Total: {cases_current_perc:.1f}% (+{new_cases*100/mean_cases:.1f}%)')\n",
    "    return scenario_status"
   ]
  },
  {
   "cell_type": "code",
   "execution_count": 28,
   "metadata": {},
   "outputs": [
    {
     "name": "stdout",
     "output_type": "stream",
     "text": [
      "NPHET IEMAG 2021-08-11 Model Scenarios vs Reported Cases\n",
      "\n",
      "(Wednesday 2021-09-01)\n",
      "\n",
      "- Reported Total: 39298 (+1789)\n",
      "- % Scenario Duration (76 days): 28.9%\n",
      "- % Optimistic Scenario Total: 19.4% (+0.9%)\n",
      "- % Central 1 Scenario Total: 11.8% (+0.5%)\n",
      "- % Central 2 Scenario Total: 9.1% (+0.4%)\n",
      "- % Pessimistic Scenario Total: 6.0% (+0.3%)\n"
     ]
    }
   ],
   "source": [
    "cases_status = generate_summary('Cases', 'mean_cases', 'Cases')"
   ]
  },
  {
   "cell_type": "code",
   "execution_count": 29,
   "metadata": {},
   "outputs": [],
   "source": [
    "#hosp_status = generate_summary('HospitalCases', 'mean_hospital_cases', 'New HOSPITAL Cases')"
   ]
  },
  {
   "cell_type": "code",
   "execution_count": 30,
   "metadata": {},
   "outputs": [],
   "source": [
    "#icu_status = generate_summary('IcuCases', 'mean_icu_cases', 'New ICU Cases')"
   ]
  },
  {
   "cell_type": "code",
   "execution_count": 31,
   "metadata": {},
   "outputs": [],
   "source": [
    "#death_status = generate_summary('Deaths', 'mean_deaths', 'Deaths')"
   ]
  },
  {
   "cell_type": "code",
   "execution_count": 32,
   "metadata": {},
   "outputs": [
    {
     "name": "stdout",
     "output_type": "stream",
     "text": [
      "As of 2021-09-01, the following cases were reported:\n",
      "\n",
      "- 19.4% cases\n",
      "- 11.8% cases\n",
      "- 9.1% cases\n",
      "- 6.0% cases\n",
      "\n",
      "Average daily cases required until 2021-10-25 to reach projections:\n",
      "\n",
      "- Optimistic: 3025\n",
      "- Central 1: 5461\n",
      "- Central 2: 7230\n",
      "- Pessimistic: 11416\n"
     ]
    }
   ],
   "source": [
    "print(f\"\"\"As of {datetime.strftime(reporteddf.iloc[-1].Date, \"%Y-%m-%d\")}, the following cases were reported:\\n\"\"\")\n",
    "\n",
    "for status_scenario in ['Optimistic', 'Central 1', 'Central 2', 'Pessimistic']:\n",
    "    print(f\"- {cases_status[status_scenario]['cases_current_perc']:.1f}% cases\")\n",
    "\n",
    "print('\\nAverage daily cases required until 2021-10-25 to reach projections:\\n')\n",
    "\n",
    "for status_scenario in ['Optimistic', 'Central 1', 'Central 2', 'Pessimistic']:\n",
    "    print(f\"- {status_scenario}: {cases_status[status_scenario]['mean_daily_required_cases']:.0f}\")\n"
   ]
  },
  {
   "cell_type": "code",
   "execution_count": null,
   "metadata": {},
   "outputs": [],
   "source": []
  }
 ],
 "metadata": {
  "kernelspec": {
   "display_name": "Python 3",
   "language": "python",
   "name": "python3"
  },
  "language_info": {
   "codemirror_mode": {
    "name": "ipython",
    "version": 3
   },
   "file_extension": ".py",
   "mimetype": "text/x-python",
   "name": "python",
   "nbconvert_exporter": "python",
   "pygments_lexer": "ipython3",
   "version": "3.8.2"
  }
 },
 "nbformat": 4,
 "nbformat_minor": 4
}
