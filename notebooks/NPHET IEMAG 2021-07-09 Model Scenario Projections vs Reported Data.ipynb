{
 "cells": [
  {
   "cell_type": "code",
   "execution_count": 1,
   "metadata": {},
   "outputs": [],
   "source": [
    "%matplotlib inline"
   ]
  },
  {
   "cell_type": "code",
   "execution_count": 2,
   "metadata": {},
   "outputs": [],
   "source": [
    "import warnings\n",
    "warnings.filterwarnings(\"ignore\")\n",
    "\n",
    "from dataclasses import dataclass\n",
    "from datetime import datetime\n",
    "import math\n",
    "import matplotlib as mpl\n",
    "import matplotlib.pyplot as plt\n",
    "import numpy as np\n",
    "import operator\n",
    "import pandas as pd\n",
    "import seaborn as sns\n",
    "\n",
    "mpl.rcParams['figure.figsize'] = [8, 5]\n",
    "sns.set_style('whitegrid', {'axes.labelcolor': '0', \"text.color\": '0', 'xtick.color': '0', 'ytick.color': '0', 'font.sans-serif': ['DejaVu Sans', 'Liberation Sans', 'Bitstream Vera Sans', 'sans-serif'],})\n",
    "sns.set_context('notebook', font_scale=1)"
   ]
  },
  {
   "cell_type": "markdown",
   "metadata": {},
   "source": [
    "## NPHET IEMAG 2021-07-09 Model Scenario Projections vs Reported Data\n",
    "\n",
    "This notebook compares the NPHET IEMAG 2021-07-09 model scenario projections with reported data, for 2021-07-01 to 2021-09-30. The projections are the mean values from the [Slides from the NPHET press briefing - Wednesday 14 July 2021](https://assets.gov.ie/154104/6a7feada-ea10-4f27-98b8-e8b5dc31771d.pdf).\n",
    "\n",
    "Note:\n",
    "* Daily data are currently not provided for deaths. These will be included when they are available again.\n",
    "\n",
    "Slide 14 Summary:\n",
    "\n",
    "<img src=\"figures/20210714_nphet_slides_summary_slide14.png\" width=\"60%\">\n",
    "\n",
    "Slide 12 - Optimistic Scenario - Accelerated Vaccination (AV):\n",
    "\n",
    "<img src=\"figures/20210714_nphet_slides_optimisticav_monthly.png\" width=\"60%\">\n",
    "\n"
   ]
  },
  {
   "cell_type": "markdown",
   "metadata": {},
   "source": [
    "### Load the reported case data\n",
    "\n",
    "This is a daily snapshot of the following from [Ireland's COVID-19 Data Hub](https://covid-19.geohive.ie/):\n",
    "* [Covid-19 Daily Statistics](https://covid-19.geohive.ie/datasets/d8eb52d56273413b84b0187a4e9117be_0/explore?location=53.385818%2C-8.057012%2C7.64&showTable=true)\n",
    "* [Acute Hospitals Confirmed Cases (New) and Admissions to ICU](https://covid-19.geohive.ie/pages/hospitals-icu--testing)"
   ]
  },
  {
   "cell_type": "code",
   "execution_count": 3,
   "metadata": {},
   "outputs": [],
   "source": [
    "reporteddf = pd.read_csv('./data/reportedcases.csv', parse_dates=[\"Date\"], date_parser=lambda x: datetime.strptime(x, \"%Y-%m-%d\"))\n",
    "reporteddf = reporteddf[reporteddf.Date>='2021-07-01']\n",
    "reporteddf.Cases = reporteddf.Cases.cumsum()\n",
    "reporteddf.HospitalCases = reporteddf.HospitalCases.cumsum()\n",
    "reporteddf.IcuCases = reporteddf.IcuCases.cumsum()\n",
    "reporteddf['Scenario'] = 'Reported'"
   ]
  },
  {
   "cell_type": "markdown",
   "metadata": {},
   "source": [
    "### Scenario data 2021-07-01 to 2021-09-30, based on Table 1 and monthly tables above"
   ]
  },
  {
   "cell_type": "code",
   "execution_count": 4,
   "metadata": {},
   "outputs": [],
   "source": [
    "scenario_dates = pd.date_range('2021-07-01', '2021-09-30')\n",
    "july_dates = pd.date_range('2021-07-01', '2021-07-31')\n",
    "august_dates = pd.date_range('2021-08-01', '2021-08-31')\n",
    "september_dates = pd.date_range('2021-09-01', '2021-09-30')\n",
    "\n",
    "@dataclass(frozen=True)\n",
    "class Scenario:\n",
    "    name: str\n",
    "    mean_cases: int\n",
    "    mean_hospital_cases: int\n",
    "    mean_icu_cases: int\n",
    "    dates: pd.DatetimeIndex\n",
    "    color: int\n",
    "  \n",
    "# No monthly data yet for Central 1, Central 2, Pessimistic scenarios\n",
    "scenarios = {name: Scenario(name, mean_cases, mean_hospital_cases, mean_icu_cases, dates, color) for name, mean_cases, mean_hospital_cases, mean_icu_cases, dates, color in \n",
    "    [\n",
    "        ('Minimal change', 62000, 1185, 160, scenario_dates, 0),\n",
    "        ('Optimistic-AV (Jul)', 15000, 270, 35, july_dates, 6),\n",
    "        ('Optimistic-AV (Aug)', 15000+33000, 270+590, 35+75, august_dates, 7),\n",
    "        ('Optimistic-AV (Sep)', 105000, 1985, 260, september_dates, 1),\n",
    "        ('Optimistic-AV', 105000, 1985, 260, scenario_dates, 1),\n",
    "        #('Central 1 (Jul)', 10000, 180, 25, july_dates, 6),\n",
    "        #('Central 1 (Aug)', 10000+46000, 180+790, 25+95, august_dates, 7),\n",
    "        #('Central 1 (Sep)', 187000, 3490, 450, september_dates, 2),\n",
    "        ('Central 1', 185000, 3455, 445, scenario_dates, 2),\n",
    "        #('Central 2 (Jul)', 16000, 280, 35, july_dates, 6),\n",
    "        #('Central 2 (Aug)', 16000+106000, 280+1790, 35+210, august_dates, 7),\n",
    "        #('Central 2 (Sep)', 408000, 7690, 985, september_dates, 3),\n",
    "        ('Central 2', 379000, 6505, 915, scenario_dates, 3),\n",
    "        #('Pessimistic (Jul)', 20000, 325, 40, july_dates, 6),\n",
    "        #('Pessimistic (Aug)', 197000+23000, 325+3310, 40+385, august_dates, 7),\n",
    "        #('Pessimistic (Sep)', 681000, 12985, 1685, september_dates, 4),\n",
    "        ('Pessimistic', 566000, 10730, 1390, scenario_dates, 4),\n",
    "    ]\n",
    "}\n",
    "\n",
    "scenariodf = pd.DataFrame({'Date': np.concatenate([x.dates for x in scenarios.values()]), \n",
    "                           'Scenario': np.concatenate([[x] * len(y.dates) for x, y in scenarios.items()]), \n",
    "                           'Cases': np.concatenate([[x.mean_cases] * len(x.dates) for x in scenarios.values()]),\n",
    "                           'HospitalCases': np.concatenate([[x.mean_hospital_cases] * len(x.dates) for x in scenarios.values()]),\n",
    "                           'IcuCases': np.concatenate([[x.mean_icu_cases] * len(x.dates) for x in scenarios.values()])})"
   ]
  },
  {
   "cell_type": "markdown",
   "metadata": {},
   "source": [
    "### NPHET scenarios vs reported cases"
   ]
  },
  {
   "cell_type": "code",
   "execution_count": 5,
   "metadata": {},
   "outputs": [],
   "source": [
    "default_palette = sns.color_palette()\n",
    "generate_dashes = lambda plot_scenarios:[(3,2)] * len(plot_scenarios) + ['']\n",
    "generate_palette = lambda plot_scenarios:[default_palette[scenarios[x].color] for x in plot_scenarios] + [default_palette[5]]\n",
    "\n",
    "def plot_cases(plot_scenarios, model_title, case_type='', y='Cases', ylabel='Cases', legend_loc='upper left', filename=None):\n",
    "    ax = sns.lineplot(data=pd.concat((scenariodf[scenariodf.Scenario.isin(plot_scenarios)], reporteddf), ignore_index=True), x='Date', y=y, hue='Scenario', style='Scenario', dashes=generate_dashes(plot_scenarios), palette=generate_palette(plot_scenarios))\n",
    "    sns.despine(left=True, bottom=True)\n",
    "    ax.set_title(f'NPHET IEMAG 2021-07-09 {model_title} Scenarios vs Reported {case_type}Cases (Cumulative)')\n",
    "    ax.set_ylabel(ylabel)\n",
    "    plt.legend(loc=legend_loc)\n",
    "    plt.xticks(rotation=30);\n",
    "    if filename:\n",
    "        plt.savefig(filename, bbox_inches='tight')\n",
    "        \n",
    "def plot_hospital_cases(plot_scenarios, model_title, legend_loc='upper left', filename=None):\n",
    "    plot_cases(plot_scenarios=plot_scenarios, \n",
    "               model_title=model_title, \n",
    "               case_type='Hospital ', \n",
    "               y='HospitalCases', \n",
    "               ylabel='New Hospital Cases',\n",
    "               legend_loc=legend_loc, \n",
    "               filename=filename)\n",
    "    \n",
    "def plot_icu_cases(plot_scenarios, model_title, legend_loc='upper left', filename=None):\n",
    "    plot_cases(plot_scenarios=plot_scenarios, \n",
    "               model_title=model_title, \n",
    "               case_type='ICU ', \n",
    "               y='IcuCases', \n",
    "               ylabel='New ICU Cases',\n",
    "               legend_loc=legend_loc, \n",
    "               filename=filename)"
   ]
  },
  {
   "cell_type": "code",
   "execution_count": 6,
   "metadata": {},
   "outputs": [
    {
     "data": {
      "image/png": "[encoded data removed]",
      "text/plain": [
       "<Figure size 576x360 with 1 Axes>"
      ]
     },
     "metadata": {},
     "output_type": "display_data"
    }
   ],
   "source": [
    "plot_cases(plot_scenarios=['Minimal change', 'Optimistic-AV', 'Central 1', 'Central 2', 'Pessimistic'], \n",
    "           model_title='Model', \n",
    "           legend_loc='upper right',\n",
    "           filename='./figures/nphet20210709_all_scenarios_vs_reported_cases.png')"
   ]
  },
  {
   "cell_type": "code",
   "execution_count": null,
   "metadata": {},
   "outputs": [],
   "source": [
    "plot_hospital_cases(plot_scenarios=['Minimal change', 'Optimistic-AV', 'Central 1', 'Central 2', 'Pessimistic'], \n",
    "                    model_title='Model', \n",
    "                    legend_loc='upper right',\n",
    "                    filename='./figures/nphet20210709_all_scenarios_vs_reported_hospital_cases.png')"
   ]
  },
  {
   "cell_type": "code",
   "execution_count": null,
   "metadata": {},
   "outputs": [],
   "source": [
    "plot_icu_cases(plot_scenarios=['Minimal change', 'Optimistic-AV', 'Central 1', 'Central 2', 'Pessimistic'], \n",
    "               model_title='Model', \n",
    "               legend_loc='upper right',\n",
    "               filename='./figures/nphet20210709_all_scenarios_vs_reported_icu_cases.png')"
   ]
  },
  {
   "cell_type": "code",
   "execution_count": null,
   "metadata": {},
   "outputs": [],
   "source": [
    "plot_cases(plot_scenarios=['Optimistic-AV (Jul)', 'Optimistic-AV (Aug)', 'Optimistic-AV (Sep)'], \n",
    "           model_title='Optimistic-AV',\n",
    "           filename='./figures/nphet20210709_optimisticav_scenarios_vs_reported_cases.png')"
   ]
  },
  {
   "cell_type": "code",
   "execution_count": null,
   "metadata": {},
   "outputs": [],
   "source": [
    "plot_hospital_cases(plot_scenarios=['Optimistic-AV (Jul)', 'Optimistic-AV (Aug)', 'Optimistic-AV (Sep)'], \n",
    "                    model_title='Optimistic-AV',\n",
    "                    filename='./figures/nphet20210709_optimistic_scenarios_vs_reported_hospital_cases.png')"
   ]
  },
  {
   "cell_type": "code",
   "execution_count": null,
   "metadata": {},
   "outputs": [],
   "source": [
    "plot_icu_cases(plot_scenarios=['Optimistic-AV (Jul)', 'Optimistic-AV (Aug)', 'Optimistic-AV (Sep)'], \n",
    "               model_title='Optimistic-AV',\n",
    "               filename='./figures/nphet20210709_optimistic_scenarios_vs_reported_icu_cases.png')"
   ]
  },
  {
   "cell_type": "code",
   "execution_count": null,
   "metadata": {},
   "outputs": [],
   "source": [
    "#plot_cases(plot_scenarios=['Central 1 (Jul)', 'Central 1 (Aug)', 'Central 1 (Sep)'], \n",
    "#           model_title='Central 1',\n",
    "#           filename='./figures/nphet20210709_central1_scenarios_vs_reported_cases.png')"
   ]
  },
  {
   "cell_type": "code",
   "execution_count": null,
   "metadata": {},
   "outputs": [],
   "source": [
    "#plot_hospital_cases(plot_scenarios=['Central 1 (Jul)', 'Central 1 (Aug)', 'Central 1 (Sep)'], \n",
    "#                    model_title='Central 1',\n",
    "#                    filename='./figures/nphet20210709_central1_scenarios_vs_reported_hospital_cases.png')"
   ]
  },
  {
   "cell_type": "code",
   "execution_count": null,
   "metadata": {},
   "outputs": [],
   "source": [
    "#plot_icu_cases(plot_scenarios=['Central 1 (Jul)', 'Central 1 (Aug)', 'Central 1 (Sep)'], \n",
    "#               model_title='Central 1',\n",
    "#               filename='./figures/nphet20210709_central1_scenarios_vs_reported_icu_cases.png')"
   ]
  },
  {
   "cell_type": "code",
   "execution_count": null,
   "metadata": {},
   "outputs": [],
   "source": [
    "#plot_cases(plot_scenarios=['Central 2 (Jul)', 'Central 2 (Aug)', 'Central 2 (Sep)'], \n",
    "#           model_title='Central 2',\n",
    "#           filename='./figures/nphet20210709_central2_scenarios_vs_reported_cases.png')"
   ]
  },
  {
   "cell_type": "code",
   "execution_count": null,
   "metadata": {},
   "outputs": [],
   "source": [
    "#plot_hospital_cases(plot_scenarios=['Central 2 (Jul)', 'Central 2 (Aug)', 'Central 2 (Sep)'], \n",
    "#                    model_title='Central 2',\n",
    "#                    filename='./figures/nphet20210709_central2_scenarios_vs_reported_hospital_cases.png')"
   ]
  },
  {
   "cell_type": "code",
   "execution_count": null,
   "metadata": {},
   "outputs": [],
   "source": [
    "#plot_icu_cases(plot_scenarios=['Central 2 (Jul)', 'Central 2 (Aug)', 'Central 2 (Sep)'], \n",
    "#               model_title='Central 2',\n",
    "#               filename='./figures/nphet20210709_central2_scenarios_vs_reported_icu_cases.png')"
   ]
  },
  {
   "cell_type": "code",
   "execution_count": null,
   "metadata": {},
   "outputs": [],
   "source": [
    "#plot_cases(plot_scenarios=['Pessimistic (Jul)', 'Pessimistic (Aug)', 'Pessimistic (Sep)'], \n",
    "#           model_title='Pessimistic',\n",
    "#           filename='./figures/nphet20210709_pessimistic_scenarios_vs_reported_cases.png')"
   ]
  },
  {
   "cell_type": "code",
   "execution_count": null,
   "metadata": {},
   "outputs": [],
   "source": [
    "#plot_hospital_cases(plot_scenarios=['Pessimistic (Jul)', 'Pessimistic (Aug)', 'Pessimistic (Sep)'], \n",
    "#                    model_title='Pessimistic',\n",
    "#                    filename='./figures/nphet20210709_pessimistic_scenarios_vs_reported_hospital_cases.png')"
   ]
  },
  {
   "cell_type": "code",
   "execution_count": null,
   "metadata": {},
   "outputs": [],
   "source": [
    "#plot_icu_cases(plot_scenarios=['Pessimistic (Jul)', 'Pessimistic (Aug)', 'Pessimistic (Sep)'], \n",
    "#               model_title='Pessimistic',\n",
    "#               filename='./figures/nphet20210709_pessimistic_scenarios_vs_reported_icu_cases.png')"
   ]
  },
  {
   "cell_type": "markdown",
   "metadata": {},
   "source": [
    "### Generate current cases/hospitalisation/ICU summaries"
   ]
  },
  {
   "cell_type": "code",
   "execution_count": null,
   "metadata": {},
   "outputs": [],
   "source": [
    "def generate_summary(reported_column, scenario_cases, title):\n",
    "    num_reported_days = len(reporteddf)\n",
    "    scenario_length = len(scenario_dates)\n",
    "    cases_current_row = reporteddf.iloc[-1]\n",
    "    cases_current = cases_current_row[reported_column]\n",
    "    cases_previous = reporteddf.iloc[-2][reported_column]\n",
    "    new_cases = cases_current - cases_previous\n",
    "    scenario_status = {}\n",
    "    print(f\"\"\"NPHET IEMAG 2021-07-09 Model Scenarios vs Reported {title}\n",
    "\n",
    "({datetime.strftime(cases_current_row.Date, \"%A %Y-%m-%d\")})\n",
    "\n",
    "- Reported Total: {cases_current} (+{new_cases})\n",
    "- % Scenario Duration ({len(scenario_dates)} days): {num_reported_days*100/scenario_length:.1f}%\"\"\")\n",
    "\n",
    "    for scenario in ['Optimistic-AV (Jul)', 'Optimistic-AV (Sep)']:\n",
    "        mean_cases = getattr(scenarios[scenario], scenario_cases)\n",
    "        cases_current_perc = cases_current*100/mean_cases\n",
    "        scenario_status[scenario] = {\n",
    "            'cases_current_perc': cases_current_perc,\n",
    "            'mean_daily_required_cases': (mean_cases - cases_current)/(scenario_length - num_reported_days)\n",
    "        }\n",
    "        print(f'- % {scenario} Scenario Total: {cases_current_perc:.1f}% (+{new_cases*100/mean_cases:.1f}%)')\n",
    "    return scenario_status"
   ]
  },
  {
   "cell_type": "code",
   "execution_count": null,
   "metadata": {},
   "outputs": [],
   "source": [
    "cases_status = generate_summary('Cases', 'mean_cases', 'Cases')"
   ]
  },
  {
   "cell_type": "code",
   "execution_count": null,
   "metadata": {},
   "outputs": [],
   "source": [
    "hosp_status = generate_summary('HospitalCases', 'mean_hospital_cases', 'New HOSPITAL Cases')"
   ]
  },
  {
   "cell_type": "code",
   "execution_count": null,
   "metadata": {},
   "outputs": [],
   "source": [
    "icu_status = generate_summary('IcuCases', 'mean_icu_cases', 'New ICU Cases')"
   ]
  },
  {
   "cell_type": "code",
   "execution_count": null,
   "metadata": {},
   "outputs": [],
   "source": [
    "status_scenario = 'Optimistic-AV (Sep)'\n",
    "\n",
    "print(f\"\"\"As of today ({datetime.strftime(reporteddf.iloc[-1].Date, \"%Y-%m-%d\")}), the following have been reported for the Optimistic-AV scenario:\n",
    "\n",
    "- {cases_status[status_scenario]['cases_current_perc']:.1f}% cases\n",
    "- {hosp_status[status_scenario]['cases_current_perc']:.1f}% hospitalisation\n",
    "- {icu_status[status_scenario]['cases_current_perc']:.1f}% ICU cases\n",
    "\n",
    "Average daily numbers required until end Sept to reach the Optimistic-AV projection totals:\n",
    "\n",
    "- {cases_status[status_scenario]['mean_daily_required_cases']:.0f} cases\n",
    "- {hosp_status[status_scenario]['mean_daily_required_cases']:.0f} hosp\n",
    "- {icu_status[status_scenario]['mean_daily_required_cases']:.0f} ICU\n",
    "\"\"\")"
   ]
  },
  {
   "cell_type": "code",
   "execution_count": null,
   "metadata": {},
   "outputs": [],
   "source": []
  }
 ],
 "metadata": {
  "kernelspec": {
   "display_name": "Python 3",
   "language": "python",
   "name": "python3"
  },
  "language_info": {
   "codemirror_mode": {
    "name": "ipython",
    "version": 3
   },
   "file_extension": ".py",
   "mimetype": "text/x-python",
   "name": "python",
   "nbconvert_exporter": "python",
   "pygments_lexer": "ipython3",
   "version": "3.8.2"
  }
 },
 "nbformat": 4,
 "nbformat_minor": 4
}
